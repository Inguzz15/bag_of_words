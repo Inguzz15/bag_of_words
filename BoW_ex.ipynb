{
  "nbformat": 4,
  "nbformat_minor": 0,
  "metadata": {
    "colab": {
      "provenance": []
    },
    "kernelspec": {
      "name": "python3",
      "display_name": "Python 3"
    },
    "language_info": {
      "name": "python"
    }
  },
  "cells": [
    {
      "cell_type": "code",
      "source": [
        "!pip install nltk"
      ],
      "metadata": {
        "colab": {
          "base_uri": "https://localhost:8080/"
        },
        "id": "JxApoXibmm8U",
        "outputId": "31542691-5dd7-4b8d-e58f-2a4c6023137a"
      },
      "execution_count": 28,
      "outputs": [
        {
          "output_type": "stream",
          "name": "stdout",
          "text": [
            "Requirement already satisfied: nltk in /usr/local/lib/python3.10/dist-packages (3.8.1)\n",
            "Requirement already satisfied: click in /usr/local/lib/python3.10/dist-packages (from nltk) (8.1.7)\n",
            "Requirement already satisfied: joblib in /usr/local/lib/python3.10/dist-packages (from nltk) (1.3.2)\n",
            "Requirement already satisfied: regex>=2021.8.3 in /usr/local/lib/python3.10/dist-packages (from nltk) (2023.6.3)\n",
            "Requirement already satisfied: tqdm in /usr/local/lib/python3.10/dist-packages (from nltk) (4.66.1)\n"
          ]
        }
      ]
    },
    {
      "cell_type": "code",
      "source": [
        "import nltk"
      ],
      "metadata": {
        "id": "7FnktsEwjGYm"
      },
      "execution_count": 29,
      "outputs": []
    },
    {
      "cell_type": "code",
      "source": [
        " nltk.download('punkt')"
      ],
      "metadata": {
        "colab": {
          "base_uri": "https://localhost:8080/"
        },
        "id": "-wDkzZGLjIg4",
        "outputId": "f9faa722-b203-4749-bac4-d238acdb5295"
      },
      "execution_count": 30,
      "outputs": [
        {
          "output_type": "stream",
          "name": "stderr",
          "text": [
            "[nltk_data] Downloading package punkt to /root/nltk_data...\n",
            "[nltk_data]   Package punkt is already up-to-date!\n"
          ]
        },
        {
          "output_type": "execute_result",
          "data": {
            "text/plain": [
              "True"
            ]
          },
          "metadata": {},
          "execution_count": 30
        }
      ]
    },
    {
      "cell_type": "code",
      "execution_count": 31,
      "metadata": {
        "id": "yKK11HRTh-gM"
      },
      "outputs": [],
      "source": [
        "# Python3 code for preprocessing text\n",
        "import nltk\n",
        "import re\n",
        "import numpy as np\n",
        "\n",
        "text = \"I have a dog. You have a cat.\"\n",
        "\n",
        "dataset = nltk.sent_tokenize(text)\n",
        "for i in range(len(dataset)):\n",
        "\tdataset[i] = dataset[i].lower()\n",
        "\tdataset[i] = re.sub(r'\\W', ' ', dataset[i])\n",
        "\tdataset[i] = re.sub(r'\\s+', ' ', dataset[i])\n"
      ]
    },
    {
      "cell_type": "code",
      "source": [
        "# Creating the Bag of Words model\n",
        "word2count = {}\n",
        "for data in dataset:\n",
        "\twords = nltk.word_tokenize(data)\n",
        "\tfor word in words:\n",
        "\t\tif word not in word2count.keys():\n",
        "\t\t\tword2count[word] = 1\n",
        "\t\telse:\n",
        "\t\t\tword2count[word] += 1\n"
      ],
      "metadata": {
        "id": "7ESCLMIVjOtN"
      },
      "execution_count": 32,
      "outputs": []
    },
    {
      "cell_type": "code",
      "source": [
        "import heapq\n",
        "freq_words = heapq.nlargest(100, word2count, key=word2count.get)\n"
      ],
      "metadata": {
        "id": "iGxT9EMEjO9z"
      },
      "execution_count": 33,
      "outputs": []
    },
    {
      "cell_type": "code",
      "source": [
        "X = []\n",
        "for data in dataset:\n",
        "\tvector = []\n",
        "\tfor word in freq_words:\n",
        "\t\tif word in nltk.word_tokenize(data):\n",
        "\t\t\tvector.append(1)\n",
        "\t\telse:\n",
        "\t\t\tvector.append(0)\n",
        "\tX.append(vector)\n",
        "X = np.asarray(X)\n"
      ],
      "metadata": {
        "id": "8UKLg-vSjPKN"
      },
      "execution_count": 34,
      "outputs": []
    },
    {
      "cell_type": "code",
      "source": [
        "print (dataset)\n",
        "print (freq_words)\n",
        "print (X)"
      ],
      "metadata": {
        "colab": {
          "base_uri": "https://localhost:8080/"
        },
        "id": "jy7sv6hYmHQq",
        "outputId": "60c51376-5320-436e-a47f-a725e81859be"
      },
      "execution_count": 35,
      "outputs": [
        {
          "output_type": "stream",
          "name": "stdout",
          "text": [
            "['i have a dog ', 'you have a cat ']\n",
            "['have', 'a', 'i', 'dog', 'you', 'cat']\n",
            "[[1 1 1 1 0 0]\n",
            " [1 1 0 0 1 1]]\n"
          ]
        }
      ]
    }
  ]
}